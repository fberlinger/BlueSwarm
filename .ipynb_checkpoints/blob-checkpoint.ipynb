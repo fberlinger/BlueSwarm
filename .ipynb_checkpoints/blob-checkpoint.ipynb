{
 "cells": [
  {
   "cell_type": "code",
   "execution_count": 1,
   "metadata": {},
   "outputs": [],
   "source": [
    "%load_ext autoreload\n",
    "%autoreload 2"
   ]
  },
  {
   "cell_type": "code",
   "execution_count": 2,
   "metadata": {},
   "outputs": [],
   "source": [
    "import time\n",
    "import numpy as np\n",
    "from PIL import Image\n",
    "from blob import Blob"
   ]
  },
  {
   "cell_type": "raw",
   "metadata": {},
   "source": [
    "camera = PiCamera()\n",
    "camera.resolution = (self.x_res, self.y_res)\n",
    "camera.rotation = 90\n",
    "camera.color_effects = (128, 128)\n",
    "camera.awb_mode = 'off'\n",
    "camera.awb_gains = (1, 1)\n",
    "camera.iso = 100\n",
    "camera.brightness = 25\n",
    "camera.contrast = 100\n",
    "camera.framerate = 60\n",
    "\n",
    "camera.capture('/home/pi/Desktop/image.jpg', use_video_port=True)\n",
    "img_raw = Image.open('/home/pi/Desktop/image.jpg').convert('RGB')"
   ]
  },
  {
   "cell_type": "code",
   "execution_count": 3,
   "metadata": {},
   "outputs": [
    {
     "name": "stdout",
     "output_type": "stream",
     "text": [
      "[[35. 39.]\n",
      " [71. 40.]\n",
      " [69. 66.]]\n"
     ]
    }
   ],
   "source": [
    "img_raw = Image.open('/Users/Florian/Documents/Blob_Detection/close_0_01_128_96.jpg').convert('RGB')\n",
    "#img_raw = Image.open('/Users/Florian/Documents/Blob_Detection/4crosses_128_96.jpg').convert('RGB')\n",
    "\n",
    "blobs = Blob(img_raw)\n",
    "blobs.blob_detect()\n",
    "print(blobs.blobs)"
   ]
  }
 ],
 "metadata": {
  "kernelspec": {
   "display_name": "Python 3",
   "language": "python",
   "name": "python3"
  },
  "language_info": {
   "codemirror_mode": {
    "name": "ipython",
    "version": 3
   },
   "file_extension": ".py",
   "mimetype": "text/x-python",
   "name": "python",
   "nbconvert_exporter": "python",
   "pygments_lexer": "ipython3",
   "version": "3.7.0"
  }
 },
 "nbformat": 4,
 "nbformat_minor": 2
}
